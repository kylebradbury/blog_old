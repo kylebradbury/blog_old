{
 "cells": [
  {
   "cell_type": "markdown",
   "metadata": {},
   "source": [
    "# Purpose of this Blog\n",
    "> An overview of the rationale for writing and what to expect from the content.\n",
    "\n",
    "- toc: false \n",
    "- badges: false\n",
    "- comments: false\n",
    "- categories: [practice]\n",
    "- author: Kyle Bradbury\n",
    "- image: images/myimage.png"
   ]
  },
  {
   "cell_type": "markdown",
   "metadata": {},
   "source": [
    "> Writing is thinking. To write well is to think clearly. *David McCullough*\n",
    "\n",
    "Early in my career, I was told that writing was the single most important action I could take for clear thinking, creativity, and productivity. At the time, I promptly ignored that advice and wrote when I had a deadline to meet and rarely more. If there's anything I've learned over my career thus far is how vitally important the act of writing is for clear and coherent thinking and for developing new ideas. \n",
    "\n",
    "I'm writing this blog, then, for two purposes: (1) to share some musings on machine learning, energy, and other research concepts that I hope may be of interest to others, and (2) organize my own thoughts and \n",
    "\n",
    "This blog will focus on various topics, but primarily three topics:\n",
    "1. Research summaries on machine learning and/or energy systems \n",
    "2. Machine learning and data science concept tutorials\n",
    "3. Practices and lessons learned in research and teaching"
   ]
  }
 ],
 "metadata": {
  "kernelspec": {
   "display_name": "Python 3",
   "language": "python",
   "name": "python3"
  },
  "language_info": {
   "codemirror_mode": {
    "name": "ipython",
    "version": 3
   },
   "file_extension": ".py",
   "mimetype": "text/x-python",
   "name": "python",
   "nbconvert_exporter": "python",
   "pygments_lexer": "ipython3",
   "version": "3.7.3"
  },
  "varInspector": {
   "cols": {
    "lenName": 16,
    "lenType": 16,
    "lenVar": 40
   },
   "kernels_config": {
    "python": {
     "delete_cmd_postfix": "",
     "delete_cmd_prefix": "del ",
     "library": "var_list.py",
     "varRefreshCmd": "print(var_dic_list())"
    },
    "r": {
     "delete_cmd_postfix": ") ",
     "delete_cmd_prefix": "rm(",
     "library": "var_list.r",
     "varRefreshCmd": "cat(var_dic_list()) "
    }
   },
   "types_to_exclude": [
    "module",
    "function",
    "builtin_function_or_method",
    "instance",
    "_Feature"
   ],
   "window_display": false
  }
 },
 "nbformat": 4,
 "nbformat_minor": 4
}
